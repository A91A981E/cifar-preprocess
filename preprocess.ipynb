{
 "cells": [
  {
   "cell_type": "code",
   "execution_count": 1,
   "id": "34bfc913",
   "metadata": {},
   "outputs": [],
   "source": [
    "# cifar-10-batches-py/preprocess.ipynb\n",
    "import os\n",
    "import shutil\n",
    "import numpy as np\n",
    "from PIL import Image\n",
    "from tqdm import tqdm"
   ]
  },
  {
   "cell_type": "code",
   "execution_count": 2,
   "id": "7b56f939",
   "metadata": {},
   "outputs": [],
   "source": [
    "# unpickle function\n",
    "def unpickle(file):\n",
    "    import pickle\n",
    "    with open(file, 'rb') as fo:\n",
    "        dict = pickle.load(fo, encoding='bytes')\n",
    "    return dict"
   ]
  },
  {
   "cell_type": "code",
   "execution_count": 3,
   "id": "a6eadcfa",
   "metadata": {},
   "outputs": [
    {
     "data": {
      "text/plain": [
       "['data_batch_1',\n",
       " 'data_batch_2',\n",
       " 'data_batch_3',\n",
       " 'data_batch_4',\n",
       " 'data_batch_5']"
      ]
     },
     "execution_count": 3,
     "metadata": {},
     "output_type": "execute_result"
    }
   ],
   "source": [
    "# all train batches\n",
    "train_batches = [item for item in os.listdir('.') if item.startswith('data')]\n",
    "train_batches"
   ]
  },
  {
   "cell_type": "code",
   "execution_count": 4,
   "id": "e7b8ac04",
   "metadata": {},
   "outputs": [
    {
     "name": "stdout",
     "output_type": "stream",
     "text": [
      "dict_keys([b'batch_label', b'labels', b'data', b'filenames'])\n",
      "6 10000\n",
      "[ 59  43  50 ... 140  84  72] 10000\n",
      "b'leptodactylus_pentadactylus_s_000004.png' 10000\n"
     ]
    }
   ],
   "source": [
    "# check dict content\n",
    "test = unpickle(train_batches[0])\n",
    "print(test.keys())\n",
    "print(test[b'labels'][0], len(test[b'labels']))\n",
    "print(test[b'data'][0], len(test[b'data']))\n",
    "print(test[b'filenames'][0], len(test[b'filenames']))"
   ]
  },
  {
   "cell_type": "code",
   "execution_count": 5,
   "id": "c2ab9b62",
   "metadata": {},
   "outputs": [
    {
     "data": {
      "text/plain": [
       "['airplane',\n",
       " 'automobile',\n",
       " 'bird',\n",
       " 'cat',\n",
       " 'deer',\n",
       " 'dog',\n",
       " 'frog',\n",
       " 'horse',\n",
       " 'ship',\n",
       " 'truck']"
      ]
     },
     "execution_count": 5,
     "metadata": {},
     "output_type": "execute_result"
    }
   ],
   "source": [
    "# get label names\n",
    "label_names = [i.decode(encoding='utf-8') for i in unpickle('batches.meta')[b'label_names']]\n",
    "label_names"
   ]
  },
  {
   "cell_type": "code",
   "execution_count": 6,
   "id": "f021ebb7",
   "metadata": {},
   "outputs": [],
   "source": [
    "# make data dir\n",
    "data_root = os.path.join('..', 'cifar10')  # where to store dataset\n",
    "if os.path.exists(data_root):\n",
    "    shutil.rmtree(data_root)\n",
    "os.mkdir(data_root)\n",
    "os.mkdir(os.path.join(data_root, 'train'))\n",
    "os.mkdir(os.path.join(data_root, 'test'))\n",
    "for dir in ['train', 'test']:\n",
    "    for cls_name in label_names:\n",
    "        os.mkdir(os.path.join(data_root, dir, cls_name))"
   ]
  },
  {
   "cell_type": "code",
   "execution_count": 7,
   "id": "df0ff755",
   "metadata": {},
   "outputs": [
    {
     "name": "stderr",
     "output_type": "stream",
     "text": [
      "100%|███████████████████████████████████████████████████████████████████████████| 10000/10000 [00:13<00:00, 723.92it/s]\n",
      "100%|███████████████████████████████████████████████████████████████████████████| 10000/10000 [00:13<00:00, 760.46it/s]\n",
      "100%|███████████████████████████████████████████████████████████████████████████| 10000/10000 [00:12<00:00, 772.45it/s]\n",
      "100%|███████████████████████████████████████████████████████████████████████████| 10000/10000 [00:13<00:00, 766.30it/s]\n",
      "100%|███████████████████████████████████████████████████████████████████████████| 10000/10000 [00:13<00:00, 735.66it/s]\n"
     ]
    }
   ],
   "source": [
    "# process train set\n",
    "for file in train_batches:\n",
    "    data = unpickle(file)\n",
    "    data_len = len(data[b'labels'])\n",
    "    for label, im_array, filename in \\\n",
    "            tqdm(zip(data[b'labels'], data[b'data'], data[b'filenames']), total=data_len):\n",
    "        im_array = np.transpose(np.reshape(im_array, (3, 32, 32)), (1, 2, 0))\n",
    "        im = Image.fromarray(im_array)\n",
    "        im.save(os.path.join(data_root, 'train', label_names[label], filename.decode(encoding='utf-8')))"
   ]
  },
  {
   "cell_type": "code",
   "execution_count": 8,
   "id": "6b6f805d",
   "metadata": {},
   "outputs": [
    {
     "data": {
      "text/plain": [
       "dict_keys([b'batch_label', b'labels', b'data', b'filenames'])"
      ]
     },
     "execution_count": 8,
     "metadata": {},
     "output_type": "execute_result"
    }
   ],
   "source": [
    "# same thing to test set\n",
    "test_batch = unpickle('test_batch')\n",
    "test_batch.keys()"
   ]
  },
  {
   "cell_type": "code",
   "execution_count": 9,
   "id": "8d85d012",
   "metadata": {},
   "outputs": [
    {
     "name": "stderr",
     "output_type": "stream",
     "text": [
      "100%|███████████████████████████████████████████████████████████████████████████| 10000/10000 [00:11<00:00, 844.19it/s]\n"
     ]
    }
   ],
   "source": [
    "for label, im_array, filename in \\\n",
    "        tqdm(zip(test_batch[b'labels'], test_batch[b'data'], test_batch[b'filenames']), total=data_len):\n",
    "    im_array = np.transpose(np.reshape(im_array, (3, 32, 32)), (1, 2, 0))\n",
    "    im = Image.fromarray(im_array)\n",
    "    im.save(os.path.join(data_root, 'test', label_names[label], filename.decode(encoding='utf-8')))"
   ]
  }
 ],
 "metadata": {
  "kernelspec": {
   "display_name": "Python 3 (ipykernel)",
   "language": "python",
   "name": "python3"
  },
  "language_info": {
   "codemirror_mode": {
    "name": "ipython",
    "version": 3
   },
   "file_extension": ".py",
   "mimetype": "text/x-python",
   "name": "python",
   "nbconvert_exporter": "python",
   "pygments_lexer": "ipython3",
   "version": "3.7.5"
  }
 },
 "nbformat": 4,
 "nbformat_minor": 5
}
